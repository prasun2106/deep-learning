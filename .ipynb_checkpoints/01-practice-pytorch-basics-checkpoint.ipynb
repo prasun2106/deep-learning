{
 "metadata": {
  "language_info": {
   "codemirror_mode": {
    "name": "ipython",
    "version": 3
   },
   "file_extension": ".py",
   "mimetype": "text/x-python",
   "name": "python",
   "nbconvert_exporter": "python",
   "pygments_lexer": "ipython3",
   "version": "3.8.5"
  },
  "orig_nbformat": 2,
  "kernelspec": {
   "name": "python385jvsc74a57bd018babb8130a6b9e837e80138f892c33f7ed791771c0b3907e3f5e67e1471edef",
   "display_name": "Python 3.8.5 64-bit ('base': conda)"
  }
 },
 "nbformat": 4,
 "nbformat_minor": 2,
 "cells": [
  {
   "cell_type": "code",
   "execution_count": 1,
   "metadata": {},
   "outputs": [],
   "source": [
    "import torch"
   ]
  },
  {
   "cell_type": "code",
   "execution_count": 2,
   "metadata": {},
   "outputs": [],
   "source": [
    "t1 = torch.tensor(4)\n",
    "t2 = torch.tensor([1,2,3,4])\n",
    "t3 = torch.tensor([[1,2,3],\n",
    "[4,5,6],\n",
    "[6,7,8]])\n",
    "t4 = torch.tensor([[[1,2,4],[1,2,5]],[[1,35,6],[3,4,6]]])"
   ]
  },
  {
   "cell_type": "code",
   "execution_count": 3,
   "metadata": {},
   "outputs": [
    {
     "output_type": "execute_result",
     "data": {
      "text/plain": [
       "(torch.Size([]), torch.Size([4]), torch.Size([3, 3]), torch.Size([2, 2, 3]))"
      ]
     },
     "metadata": {},
     "execution_count": 3
    }
   ],
   "source": [
    "t1.shape, t2.shape, t3.shape, t4.shape"
   ]
  },
  {
   "cell_type": "code",
   "execution_count": 6,
   "metadata": {},
   "outputs": [
    {
     "output_type": "execute_result",
     "data": {
      "text/plain": [
       "array([[[ 1,  2,  4],\n",
       "        [ 1,  2,  5]],\n",
       "\n",
       "       [[ 1, 35,  6],\n",
       "        [ 3,  4,  6]]])"
      ]
     },
     "metadata": {},
     "execution_count": 6
    }
   ],
   "source": [
    "t4_np = t4.numpy()\n",
    "t4_np"
   ]
  },
  {
   "cell_type": "code",
   "execution_count": 8,
   "metadata": {},
   "outputs": [],
   "source": [
    "t5 = torch.from_numpy(t4_np)\n"
   ]
  },
  {
   "cell_type": "code",
   "execution_count": 9,
   "metadata": {},
   "outputs": [
    {
     "output_type": "execute_result",
     "data": {
      "text/plain": [
       "torch.int64"
      ]
     },
     "metadata": {},
     "execution_count": 9
    }
   ],
   "source": [
    "t5.dtype"
   ]
  },
  {
   "cell_type": "code",
   "execution_count": null,
   "metadata": {},
   "outputs": [],
   "source": [
    "# Variables with gradient capability\n",
    "a = torch.tensor([1,2,3], )"
   ]
  }
 ]
}